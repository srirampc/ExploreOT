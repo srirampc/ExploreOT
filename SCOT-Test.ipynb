{
 "cells": [
  {
   "cell_type": "code",
   "execution_count": 46,
   "id": "2f805957",
   "metadata": {},
   "outputs": [],
   "source": [
    "import sys\n",
    "import time\n",
    "import jax\n",
    "import jax.numpy as jnp\n",
    "import numpy as np\n",
    "import pandas as pd\n",
    "from ot.gromov import gwloss, init_matrix\n",
    "from sklearn.decomposition import PCA\n",
    "\n",
    "import matplotlib.pyplot as plt\n",
    "import seaborn as sn\n",
    "from IPython import display\n",
    "from matplotlib import animation\n",
    "\n",
    "import ott\n",
    "from ott.problems.quadratic import quadratic_problem\n",
    "from ott.solvers.quadratic import gromov_wasserstein"
   ]
  },
  {
   "cell_type": "code",
   "execution_count": 5,
   "id": "a11b773a",
   "metadata": {},
   "outputs": [],
   "source": [
    "from SCOT.src import evals\n",
    "from SCOT.src.scotv1 import SCOT"
   ]
  },
  {
   "cell_type": "code",
   "execution_count": 7,
   "id": "824627a0",
   "metadata": {},
   "outputs": [
    {
     "name": "stdout",
     "output_type": "stream",
     "text": [
      "Dimensions of input datasets:\n",
      "X = (1047, 19) => ie 1047 samples belonging to a chromatin accessibility feature space of dimension 19\n",
      "y = (1047, 10) => ie 1047 samples belonging to a gene expression feature space of dimension 10\n"
     ]
    }
   ],
   "source": [
    "X = np.load(\"SCOT/data/SNARE/SNAREseq_atac_feat.npy\")\n",
    "y = np.load(\"SCOT/data/SNARE/SNAREseq_rna_feat.npy\")\n",
    "\n",
    "print(\"Dimensions of input datasets:\")\n",
    "print(\n",
    "    \"X =\",\n",
    "    X.shape,\n",
    "    \"=> ie\",\n",
    "    X.shape[0],\n",
    "    \"samples belonging to a chromatin accessibility feature space of dimension\",\n",
    "    X.shape[1],\n",
    ")\n",
    "print(\n",
    "    \"y =\",\n",
    "    y.shape,\n",
    "    \"=> ie\",\n",
    "    y.shape[0],\n",
    "    \"samples belonging to a gene expression feature space of dimension\",\n",
    "    y.shape[1],\n",
    ")"
   ]
  },
  {
   "cell_type": "code",
   "execution_count": 9,
   "id": "24bd2434",
   "metadata": {},
   "outputs": [],
   "source": [
    "k = 40\n",
    "epsilon = 1e-3"
   ]
  },
  {
   "cell_type": "code",
   "execution_count": 10,
   "id": "3df34954",
   "metadata": {},
   "outputs": [
    {
     "name": "stderr",
     "output_type": "stream",
     "text": [
      "/home/srirampc/anaconda3/envs/scot/lib/python3.11/site-packages/ot/bregman.py:535: UserWarning: Sinkhorn did not converge. You might want to increase the number of iterations `numItermax` or the regularization parameter `reg`.\n",
      "  warnings.warn(\"Sinkhorn did not converge. You might want to \"\n"
     ]
    },
    {
     "name": "stdout",
     "output_type": "stream",
     "text": [
      "Execution time:  31.17 s\n"
     ]
    }
   ],
   "source": [
    "potscot = SCOT(X, y)\n",
    "\n",
    "start = time.time()\n",
    "X_shifted_pot, y_shifted_pot = potscot.align(\n",
    "    k=k, e=epsilon, normalize=True, norm=\"l2\", verbose=False\n",
    ")  # POT\n",
    "end = time.time()\n",
    "\n",
    "print(\"Execution time: \", round(end - start, 2), \"s\")"
   ]
  },
  {
   "cell_type": "code",
   "execution_count": 11,
   "id": "b3fd077b",
   "metadata": {},
   "outputs": [
    {
     "data": {
      "text/plain": [
       "0.016519975128480156"
      ]
     },
     "execution_count": 11,
     "metadata": {},
     "output_type": "execute_result"
    }
   ],
   "source": [
    "potscot.gwdist"
   ]
  },
  {
   "cell_type": "code",
   "execution_count": 14,
   "id": "0f731010",
   "metadata": {},
   "outputs": [],
   "source": [
    "class OTTSCOT(SCOT):\n",
    "    def find_correspondences(self, e: float, verbose: bool = True) -> None:\n",
    "        geom_xx = ott.geometry.geometry.Geometry(self.Cx)\n",
    "        geom_yy = ott.geometry.geometry.Geometry(self.Cy)\n",
    "        prob = quadratic_problem.QuadraticProblem(\n",
    "            geom_xx, geom_yy, a=self.p, b=self.q\n",
    "        )\n",
    "\n",
    "        solver = gromov_wasserstein.GromovWasserstein(\n",
    "            epsilon=e, threshold=1e-9, max_iterations=1000\n",
    "        )\n",
    "\n",
    "        T = solver(prob).matrix\n",
    "\n",
    "        constC, hC1, hC2 = init_matrix(\n",
    "            self.Cx, self.Cy, self.p, self.q, loss_fun=\"square_loss\"\n",
    "        )\n",
    "        self.gwdist = gwloss(constC, hC1, hC2, np.array(T))\n",
    "        self.coupling = T\n",
    "\n",
    "        if (\n",
    "            np.isnan(self.coupling).any()\n",
    "            or np.any(~self.coupling.any(axis=1))\n",
    "            or np.any(~self.coupling.any(axis=0))\n",
    "            or sum(sum(self.coupling)) < 0.95\n",
    "        ):\n",
    "            self.flag = False\n",
    "        else:\n",
    "            self.flag = True"
   ]
  },
  {
   "cell_type": "code",
   "execution_count": 15,
   "id": "ed7e20e8",
   "metadata": {},
   "outputs": [
    {
     "name": "stderr",
     "output_type": "stream",
     "text": [
      "No GPU/TPU found, falling back to CPU. (Set TF_CPP_MIN_LOG_LEVEL=0 and rerun for more info.)\n"
     ]
    },
    {
     "name": "stdout",
     "output_type": "stream",
     "text": [
      "Execution time:  214.05 s\n"
     ]
    }
   ],
   "source": [
    "ottscot = OTTSCOT(X, y)\n",
    "\n",
    "start = time.time()\n",
    "X_shifted, y_shifted = ottscot.align(\n",
    "    k=k, e=epsilon, normalize=True, norm=\"l2\", verbose=False\n",
    ")  # OTT\n",
    "end = time.time()\n",
    "\n",
    "print(\"Execution time: \", round(end - start, 2), \"s\")"
   ]
  },
  {
   "cell_type": "code",
   "execution_count": 16,
   "id": "c9dca4f0",
   "metadata": {},
   "outputs": [
    {
     "name": "stdout",
     "output_type": "stream",
     "text": [
      "0.016519975128480156 0.017811801691579823\n"
     ]
    }
   ],
   "source": [
    "print(potscot.gwdist, ottscot.gwdist)"
   ]
  },
  {
   "cell_type": "code",
   "execution_count": 18,
   "id": "f0b2afcb",
   "metadata": {},
   "outputs": [],
   "source": [
    "from SGW.lib.sgw_numpy import sgw_cpu"
   ]
  },
  {
   "cell_type": "code",
   "execution_count": 24,
   "id": "89fe868f",
   "metadata": {},
   "outputs": [
    {
     "name": "stdout",
     "output_type": "stream",
     "text": [
      "(300, 2) (300, 1) (1047, 19) (1047, 10)\n"
     ]
    }
   ],
   "source": [
    "print(Xs.shape, Xt.shape, X.shape, y.shape)"
   ]
  },
  {
   "cell_type": "code",
   "execution_count": 28,
   "id": "4ab9e725",
   "metadata": {},
   "outputs": [
    {
     "name": "stdout",
     "output_type": "stream",
     "text": [
      "(7.955944738298696e+18, {'time_sink_': 0.04156494140625, 'time_gw_1D': 0.8067829608917236, 'gw_1d_details': {'g1d': 0.8064517974853516, 't1': 0.26371216773986816, 't2': 0.26117467880249023}})\n",
      "CPU times: user 2.82 s, sys: 51.1 ms, total: 2.88 s\n",
      "Wall time: 849 ms\n"
     ]
    }
   ],
   "source": [
    "%%time\n",
    "outx = sgw_cpu(X, y, nproj=2000, tolog=True)\n",
    "print(outx)"
   ]
  },
  {
   "cell_type": "code",
   "execution_count": 40,
   "id": "196c8f80",
   "metadata": {},
   "outputs": [],
   "source": [
    "n_samples=300\n",
    "Xs=np.random.rand(n_samples,5)\n",
    "Xt=np.random.rand(n_samples,5)\n",
    "P=np.random.randn(5,500) # 500 projections are used"
   ]
  },
  {
   "cell_type": "code",
   "execution_count": 41,
   "id": "f44883ba",
   "metadata": {},
   "outputs": [
    {
     "name": "stdout",
     "output_type": "stream",
     "text": [
      "CPU times: user 1.16 s, sys: 49.4 ms, total: 1.21 s\n",
      "Wall time: 145 ms\n"
     ]
    },
    {
     "data": {
      "text/plain": [
       "0.0019520239196300262"
      ]
     },
     "execution_count": 41,
     "metadata": {},
     "output_type": "execute_result"
    }
   ],
   "source": [
    "%%time\n",
    "sgw_cpu(Xs,Xt,P=P)"
   ]
  },
  {
   "cell_type": "code",
   "execution_count": 43,
   "id": "42f5277c",
   "metadata": {},
   "outputs": [
    {
     "ename": "TypeError",
     "evalue": "Incompatible shapes for dot: got (300, 5) and (300,).",
     "output_type": "error",
     "traceback": [
      "\u001b[0;31m---------------------------------------------------------------------------\u001b[0m",
      "\u001b[0;31mTypeError\u001b[0m                                 Traceback (most recent call last)",
      "File \u001b[0;32m<timed exec>:16\u001b[0m\n",
      "File \u001b[0;32m<timed exec>:10\u001b[0m, in \u001b[0;36mott_gw\u001b[0;34m(Xs, Xt, p, q, e)\u001b[0m\n",
      "File \u001b[0;32m~/anaconda3/envs/scot/lib/python3.11/site-packages/ott/solvers/quadratic/gromov_wasserstein.py:239\u001b[0m, in \u001b[0;36mGromovWasserstein.__call__\u001b[0;34m(self, prob, init, rng, **kwargs)\u001b[0m\n\u001b[1;32m    237\u001b[0m \u001b[38;5;28;01mif\u001b[39;00m init \u001b[38;5;129;01mis\u001b[39;00m \u001b[38;5;28;01mNone\u001b[39;00m:\n\u001b[1;32m    238\u001b[0m   initializer \u001b[38;5;241m=\u001b[39m \u001b[38;5;28mself\u001b[39m\u001b[38;5;241m.\u001b[39mcreate_initializer(prob)\n\u001b[0;32m--> 239\u001b[0m   init \u001b[38;5;241m=\u001b[39m initializer(prob, epsilon\u001b[38;5;241m=\u001b[39m\u001b[38;5;28mself\u001b[39m\u001b[38;5;241m.\u001b[39mepsilon, rng\u001b[38;5;241m=\u001b[39mrng1, \u001b[38;5;241m*\u001b[39m\u001b[38;5;241m*\u001b[39mkwargs)\n\u001b[1;32m    241\u001b[0m out \u001b[38;5;241m=\u001b[39m iterations(\u001b[38;5;28mself\u001b[39m, prob, init, rng2)\n\u001b[1;32m    242\u001b[0m \u001b[38;5;66;03m# TODO(lpapaxanthoos): remove stop_gradient when using backprop\u001b[39;00m\n",
      "File \u001b[0;32m~/anaconda3/envs/scot/lib/python3.11/site-packages/ott/initializers/quadratic/initializers.py:56\u001b[0m, in \u001b[0;36mBaseQuadraticInitializer.__call__\u001b[0;34m(self, quad_prob, **kwargs)\u001b[0m\n\u001b[1;32m     53\u001b[0m \u001b[38;5;28;01mfrom\u001b[39;00m \u001b[38;5;21;01mott\u001b[39;00m\u001b[38;5;21;01m.\u001b[39;00m\u001b[38;5;21;01mproblems\u001b[39;00m\u001b[38;5;21;01m.\u001b[39;00m\u001b[38;5;21;01mlinear\u001b[39;00m \u001b[38;5;28;01mimport\u001b[39;00m linear_problem\n\u001b[1;32m     55\u001b[0m n, m \u001b[38;5;241m=\u001b[39m quad_prob\u001b[38;5;241m.\u001b[39mgeom_xx\u001b[38;5;241m.\u001b[39mshape[\u001b[38;5;241m0\u001b[39m], quad_prob\u001b[38;5;241m.\u001b[39mgeom_yy\u001b[38;5;241m.\u001b[39mshape[\u001b[38;5;241m0\u001b[39m]\n\u001b[0;32m---> 56\u001b[0m geom \u001b[38;5;241m=\u001b[39m \u001b[38;5;28mself\u001b[39m\u001b[38;5;241m.\u001b[39m_create_geometry(quad_prob, \u001b[38;5;241m*\u001b[39m\u001b[38;5;241m*\u001b[39mkwargs)\n\u001b[1;32m     57\u001b[0m \u001b[38;5;28;01massert\u001b[39;00m geom\u001b[38;5;241m.\u001b[39mshape \u001b[38;5;241m==\u001b[39m (n, m), \u001b[38;5;124mf\u001b[39m\u001b[38;5;124m\"\u001b[39m\u001b[38;5;124mExpected geometry of shape `\u001b[39m\u001b[38;5;132;01m{\u001b[39;00mn,\u001b[38;5;250m \u001b[39mm\u001b[38;5;132;01m}\u001b[39;00m\u001b[38;5;124m`, \u001b[39m\u001b[38;5;124m\"\u001b[39m \\\n\u001b[1;32m     58\u001b[0m                              \u001b[38;5;124mf\u001b[39m\u001b[38;5;124m\"\u001b[39m\u001b[38;5;124mfound `\u001b[39m\u001b[38;5;132;01m{\u001b[39;00mgeom\u001b[38;5;241m.\u001b[39mshape\u001b[38;5;132;01m}\u001b[39;00m\u001b[38;5;124m`.\u001b[39m\u001b[38;5;124m\"\u001b[39m\n\u001b[1;32m     59\u001b[0m \u001b[38;5;28;01mreturn\u001b[39;00m linear_problem\u001b[38;5;241m.\u001b[39mLinearProblem(\n\u001b[1;32m     60\u001b[0m     geom,\n\u001b[1;32m     61\u001b[0m     a\u001b[38;5;241m=\u001b[39mquad_prob\u001b[38;5;241m.\u001b[39ma,\n\u001b[0;32m   (...)\u001b[0m\n\u001b[1;32m     64\u001b[0m     tau_b\u001b[38;5;241m=\u001b[39mquad_prob\u001b[38;5;241m.\u001b[39mtau_b\n\u001b[1;32m     65\u001b[0m )\n",
      "File \u001b[0;32m~/anaconda3/envs/scot/lib/python3.11/site-packages/ott/initializers/quadratic/initializers.py:140\u001b[0m, in \u001b[0;36mQuadraticInitializer._create_geometry\u001b[0;34m(***failed resolving arguments***)\u001b[0m\n\u001b[1;32m    137\u001b[0m \u001b[38;5;28;01mfrom\u001b[39;00m \u001b[38;5;21;01mott\u001b[39;00m\u001b[38;5;21;01m.\u001b[39;00m\u001b[38;5;21;01mproblems\u001b[39;00m\u001b[38;5;21;01m.\u001b[39;00m\u001b[38;5;21;01mquadratic\u001b[39;00m \u001b[38;5;28;01mimport\u001b[39;00m quadratic_problem\n\u001b[1;32m    138\u001b[0m \u001b[38;5;28;01mdel\u001b[39;00m kwargs\n\u001b[0;32m--> 140\u001b[0m marginal_cost \u001b[38;5;241m=\u001b[39m quad_prob\u001b[38;5;241m.\u001b[39mmarginal_dependent_cost(quad_prob\u001b[38;5;241m.\u001b[39ma, quad_prob\u001b[38;5;241m.\u001b[39mb)\n\u001b[1;32m    141\u001b[0m geom_xx, geom_yy \u001b[38;5;241m=\u001b[39m quad_prob\u001b[38;5;241m.\u001b[39mgeom_xx, quad_prob\u001b[38;5;241m.\u001b[39mgeom_yy\n\u001b[1;32m    143\u001b[0m h1, h2 \u001b[38;5;241m=\u001b[39m quad_prob\u001b[38;5;241m.\u001b[39mquad_loss\n",
      "File \u001b[0;32m~/anaconda3/envs/scot/lib/python3.11/site-packages/ott/problems/quadratic/quadratic_problem.py:175\u001b[0m, in \u001b[0;36mQuadraticProblem.marginal_dependent_cost\u001b[0;34m(self, marginal_1, marginal_2, remove_scale)\u001b[0m\n\u001b[1;32m    172\u001b[0m   geom_yy \u001b[38;5;241m=\u001b[39m geom_yy\u001b[38;5;241m.\u001b[39mset_scale_cost(\u001b[38;5;241m1.0\u001b[39m)\n\u001b[1;32m    174\u001b[0m \u001b[38;5;28;01mif\u001b[39;00m \u001b[38;5;28mself\u001b[39m\u001b[38;5;241m.\u001b[39m_loss_name \u001b[38;5;241m==\u001b[39m \u001b[38;5;124m\"\u001b[39m\u001b[38;5;124msqeucl\u001b[39m\u001b[38;5;124m\"\u001b[39m:  \u001b[38;5;66;03m# quadratic apply, efficient for LR\u001b[39;00m\n\u001b[0;32m--> 175\u001b[0m   tmp1 \u001b[38;5;241m=\u001b[39m geom_xx\u001b[38;5;241m.\u001b[39mapply_square_cost(marginal_1, axis\u001b[38;5;241m=\u001b[39m\u001b[38;5;241m1\u001b[39m)\n\u001b[1;32m    176\u001b[0m   tmp2 \u001b[38;5;241m=\u001b[39m geom_yy\u001b[38;5;241m.\u001b[39mapply_square_cost(marginal_2, axis\u001b[38;5;241m=\u001b[39m\u001b[38;5;241m1\u001b[39m)\n\u001b[1;32m    177\u001b[0m \u001b[38;5;28;01melse\u001b[39;00m:\n",
      "File \u001b[0;32m~/anaconda3/envs/scot/lib/python3.11/site-packages/ott/geometry/geometry.py:548\u001b[0m, in \u001b[0;36mGeometry.apply_square_cost\u001b[0;34m(self, arr, axis)\u001b[0m\n\u001b[1;32m    531\u001b[0m \u001b[38;5;28;01mdef\u001b[39;00m \u001b[38;5;21mapply_square_cost\u001b[39m(\u001b[38;5;28mself\u001b[39m, arr: jnp\u001b[38;5;241m.\u001b[39mndarray, axis: \u001b[38;5;28mint\u001b[39m \u001b[38;5;241m=\u001b[39m \u001b[38;5;241m0\u001b[39m) \u001b[38;5;241m-\u001b[39m\u001b[38;5;241m>\u001b[39m jnp\u001b[38;5;241m.\u001b[39mndarray:\n\u001b[1;32m    532\u001b[0m \u001b[38;5;250m  \u001b[39m\u001b[38;5;124;03m\"\"\"Apply elementwise-square of cost matrix to array (vector or matrix).\u001b[39;00m\n\u001b[1;32m    533\u001b[0m \n\u001b[1;32m    534\u001b[0m \u001b[38;5;124;03m  This function applies the ground geometry's cost matrix, to perform either\u001b[39;00m\n\u001b[0;32m   (...)\u001b[0m\n\u001b[1;32m    546\u001b[0m \u001b[38;5;124;03m    An array, [num_b, p] if axis=0 or [num_a, p] if axis=1.\u001b[39;00m\n\u001b[1;32m    547\u001b[0m \u001b[38;5;124;03m  \"\"\"\u001b[39;00m\n\u001b[0;32m--> 548\u001b[0m   \u001b[38;5;28;01mreturn\u001b[39;00m \u001b[38;5;28mself\u001b[39m\u001b[38;5;241m.\u001b[39mapply_cost(arr, axis\u001b[38;5;241m=\u001b[39maxis, fn\u001b[38;5;241m=\u001b[39m\u001b[38;5;28;01mlambda\u001b[39;00m x: x \u001b[38;5;241m*\u001b[39m\u001b[38;5;241m*\u001b[39m \u001b[38;5;241m2\u001b[39m)\n",
      "File \u001b[0;32m~/anaconda3/envs/scot/lib/python3.11/site-packages/ott/geometry/geometry.py:578\u001b[0m, in \u001b[0;36mGeometry.apply_cost\u001b[0;34m(self, arr, axis, fn, **kwargs)\u001b[0m\n\u001b[1;32m    575\u001b[0m   arr \u001b[38;5;241m=\u001b[39m arr\u001b[38;5;241m.\u001b[39mreshape(\u001b[38;5;241m-\u001b[39m\u001b[38;5;241m1\u001b[39m, \u001b[38;5;241m1\u001b[39m)\n\u001b[1;32m    577\u001b[0m app \u001b[38;5;241m=\u001b[39m functools\u001b[38;5;241m.\u001b[39mpartial(\u001b[38;5;28mself\u001b[39m\u001b[38;5;241m.\u001b[39m_apply_cost_to_vec, axis\u001b[38;5;241m=\u001b[39maxis, fn\u001b[38;5;241m=\u001b[39mfn, \u001b[38;5;241m*\u001b[39m\u001b[38;5;241m*\u001b[39mkwargs)\n\u001b[0;32m--> 578\u001b[0m \u001b[38;5;28;01mreturn\u001b[39;00m jax\u001b[38;5;241m.\u001b[39mvmap(app, in_axes\u001b[38;5;241m=\u001b[39m\u001b[38;5;241m1\u001b[39m, out_axes\u001b[38;5;241m=\u001b[39m\u001b[38;5;241m1\u001b[39m)(arr)\n",
      "    \u001b[0;31m[... skipping hidden 3 frame]\u001b[0m\n",
      "File \u001b[0;32m~/anaconda3/envs/scot/lib/python3.11/site-packages/ott/geometry/geometry.py:600\u001b[0m, in \u001b[0;36mGeometry._apply_cost_to_vec\u001b[0;34m(self, vec, axis, fn, **_)\u001b[0m\n\u001b[1;32m    598\u001b[0m matrix \u001b[38;5;241m=\u001b[39m \u001b[38;5;28mself\u001b[39m\u001b[38;5;241m.\u001b[39mcost_matrix\u001b[38;5;241m.\u001b[39mT \u001b[38;5;28;01mif\u001b[39;00m axis \u001b[38;5;241m==\u001b[39m \u001b[38;5;241m0\u001b[39m \u001b[38;5;28;01melse\u001b[39;00m \u001b[38;5;28mself\u001b[39m\u001b[38;5;241m.\u001b[39mcost_matrix\n\u001b[1;32m    599\u001b[0m matrix \u001b[38;5;241m=\u001b[39m fn(matrix) \u001b[38;5;28;01mif\u001b[39;00m fn \u001b[38;5;129;01mis\u001b[39;00m \u001b[38;5;129;01mnot\u001b[39;00m \u001b[38;5;28;01mNone\u001b[39;00m \u001b[38;5;28;01melse\u001b[39;00m matrix\n\u001b[0;32m--> 600\u001b[0m \u001b[38;5;28;01mreturn\u001b[39;00m jnp\u001b[38;5;241m.\u001b[39mdot(matrix, vec)\n",
      "    \u001b[0;31m[... skipping hidden 12 frame]\u001b[0m\n",
      "File \u001b[0;32m~/anaconda3/envs/scot/lib/python3.11/site-packages/jax/_src/numpy/lax_numpy.py:3021\u001b[0m, in \u001b[0;36mdot\u001b[0;34m(a, b, precision)\u001b[0m\n\u001b[1;32m   3019\u001b[0m   \u001b[38;5;28;01mreturn\u001b[39;00m lax\u001b[38;5;241m.\u001b[39mmul(a, b)\n\u001b[1;32m   3020\u001b[0m \u001b[38;5;28;01mif\u001b[39;00m \u001b[38;5;28mmax\u001b[39m(a_ndim, b_ndim) \u001b[38;5;241m<\u001b[39m\u001b[38;5;241m=\u001b[39m \u001b[38;5;241m2\u001b[39m:\n\u001b[0;32m-> 3021\u001b[0m   \u001b[38;5;28;01mreturn\u001b[39;00m lax\u001b[38;5;241m.\u001b[39mdot(a, b, precision\u001b[38;5;241m=\u001b[39mprecision)\n\u001b[1;32m   3023\u001b[0m \u001b[38;5;28;01mif\u001b[39;00m b_ndim \u001b[38;5;241m==\u001b[39m \u001b[38;5;241m1\u001b[39m:\n\u001b[1;32m   3024\u001b[0m   contract_dims \u001b[38;5;241m=\u001b[39m ((a_ndim \u001b[38;5;241m-\u001b[39m \u001b[38;5;241m1\u001b[39m,), (\u001b[38;5;241m0\u001b[39m,))\n",
      "File \u001b[0;32m~/anaconda3/envs/scot/lib/python3.11/site-packages/jax/_src/lax/lax.py:698\u001b[0m, in \u001b[0;36mdot\u001b[0;34m(lhs, rhs, precision, preferred_element_type)\u001b[0m\n\u001b[1;32m    694\u001b[0m   \u001b[38;5;28;01mreturn\u001b[39;00m dot_general(lhs, rhs, (((lhs\u001b[38;5;241m.\u001b[39mndim \u001b[38;5;241m-\u001b[39m \u001b[38;5;241m1\u001b[39m,), (\u001b[38;5;241m0\u001b[39m,)), ((), ())),\n\u001b[1;32m    695\u001b[0m                      precision\u001b[38;5;241m=\u001b[39mprecision,\n\u001b[1;32m    696\u001b[0m                      preferred_element_type\u001b[38;5;241m=\u001b[39mpreferred_element_type)\n\u001b[1;32m    697\u001b[0m \u001b[38;5;28;01melse\u001b[39;00m:\n\u001b[0;32m--> 698\u001b[0m   \u001b[38;5;28;01mraise\u001b[39;00m \u001b[38;5;167;01mTypeError\u001b[39;00m(\u001b[38;5;124m\"\u001b[39m\u001b[38;5;124mIncompatible shapes for dot: got \u001b[39m\u001b[38;5;132;01m{}\u001b[39;00m\u001b[38;5;124m and \u001b[39m\u001b[38;5;132;01m{}\u001b[39;00m\u001b[38;5;124m.\u001b[39m\u001b[38;5;124m\"\u001b[39m\u001b[38;5;241m.\u001b[39mformat(\n\u001b[1;32m    699\u001b[0m       lhs\u001b[38;5;241m.\u001b[39mshape, rhs\u001b[38;5;241m.\u001b[39mshape))\n",
      "\u001b[0;31mTypeError\u001b[0m: Incompatible shapes for dot: got (300, 5) and (300,)."
     ]
    }
   ],
   "source": [
    "%%time\n",
    "def ott_gw(Xs, Xt, p, q, e):\n",
    "    geom_xx = ott.geometry.geometry.Geometry(Xs)\n",
    "    geom_yy = ott.geometry.geometry.Geometry(Xt)\n",
    "    prob = quadratic_problem.QuadraticProblem(\n",
    "        geom_xx, geom_yy, a=p, b=q\n",
    "    )\n",
    "    solver = gromov_wasserstein.GromovWasserstein(\n",
    "       epsilon=e, threshold=1e-9, max_iterations=1000\n",
    "    )\n",
    "    T = solver(prob).matrix\n",
    "    constC, hC1, hC2 = init_matrix(\n",
    "            Xs, Xt, p, q, loss_fun=\"square_loss\"\n",
    "        )\n",
    "    gwdist = gwloss(constC, hC1, hC2, np.array(T))\n",
    "    return gw, T\n",
    "ra, rb = ott_gw(Xs,Xt,None,None, epsilon)\n",
    "rb"
   ]
  }
 ],
 "metadata": {
  "kernelspec": {
   "display_name": "Python 3 (ipykernel)",
   "language": "python",
   "name": "python3"
  },
  "language_info": {
   "codemirror_mode": {
    "name": "ipython",
    "version": 3
   },
   "file_extension": ".py",
   "mimetype": "text/x-python",
   "name": "python",
   "nbconvert_exporter": "python",
   "pygments_lexer": "ipython3",
   "version": "3.11.3"
  }
 },
 "nbformat": 4,
 "nbformat_minor": 5
}
