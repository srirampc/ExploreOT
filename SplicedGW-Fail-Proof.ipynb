{
 "cells": [
  {
   "cell_type": "code",
   "execution_count": 1,
   "id": "88762f2f",
   "metadata": {},
   "outputs": [],
   "source": [
    "import numpy\n",
    "\n",
    "\n",
    "def series_x(epsilon, n):\n",
    "    x = [0.0 for _ in range(n)]\n",
    "    for i in range(n):\n",
    "        x[i] = (2.0*(i+1) - n - 1)/2.0\n",
    "        x[i] = x[i] * epsilon\n",
    "    x[0] = -1\n",
    "    x[n-1] = 1\n",
    "    return x\n",
    "\n",
    "\n",
    "def series_y(epsilon, n):\n",
    "    y = [0.0 for _ in range(n)]\n",
    "    for i in range(n):\n",
    "        y[i] = (i+1.0) - 2.0\n",
    "        y[i] = y[i] * epsilon\n",
    "    y[0] = -1\n",
    "    y[1] = -1 + epsilon\n",
    "    return y\n",
    "\n",
    "def max_min_epsilon(n):\n",
    "    return (0, 2.0/(n-3.0))\n",
    "\n",
    "\n",
    "def series_fa(x, y, n):\n",
    "    return sum(abs(x[i] - x[k])*abs(y[i] - y[k]) if i < k else 0.0 for i in range(n) for k in range(n))\n",
    "\n",
    "def series_fa_cycle(x, y, n):\n",
    "    y2 = y[1:] + [y[0]]\n",
    "    y = y2\n",
    "    return sum(abs(x[i] - x[k])*abs(y[i] - y[k]) if i < k else 0.0 for i in range(n) for k in range(n))\n",
    "\n",
    "def test_in(epsilon, n):\n",
    "    x = series_x(epsilon, n)\n",
    "    y = series_y(epsilon, n)\n",
    "    print(epsilon, n, x, y, series_fa(x,y,n), series_fa_cycle(x,y,n))"
   ]
  },
  {
   "cell_type": "code",
   "execution_count": 3,
   "id": "d3a99489",
   "metadata": {},
   "outputs": [
    {
     "name": "stdout",
     "output_type": "stream",
     "text": [
      "0 5 [-1, -0.0, 0.0, 0.0, 1] [-1, -1, 0.0, 0.0, 0.0] 5.0 6.0\n",
      "0.05 5 [-1, -0.05, 0.0, 0.05, 1] [-1, -0.95, 0.05, 0.1, 0.15000000000000002] 6.012500000000001 6.5649999999999995\n"
     ]
    }
   ],
   "source": [
    "test_in(0, 5)\n",
    "test_in(0.05,5)"
   ]
  },
  {
   "cell_type": "code",
   "execution_count": null,
   "id": "d5a32445",
   "metadata": {},
   "outputs": [],
   "source": []
  }
 ],
 "metadata": {
  "kernelspec": {
   "display_name": "Python 3 (ipykernel)",
   "language": "python",
   "name": "python3"
  },
  "language_info": {
   "codemirror_mode": {
    "name": "ipython",
    "version": 3
   },
   "file_extension": ".py",
   "mimetype": "text/x-python",
   "name": "python",
   "nbconvert_exporter": "python",
   "pygments_lexer": "ipython3",
   "version": "3.11.3"
  }
 },
 "nbformat": 4,
 "nbformat_minor": 5
}
